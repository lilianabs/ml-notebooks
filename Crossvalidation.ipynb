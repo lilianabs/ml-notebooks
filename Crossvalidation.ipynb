{
 "cells": [
  {
   "cell_type": "code",
   "execution_count": 7,
   "id": "c105271b-7a6c-4f2b-925b-58c818ebfb48",
   "metadata": {},
   "outputs": [],
   "source": [
    "import pandas as pd\n",
    "\n",
    "from xgboost import XGBRegressor\n",
    "\n",
    "from sklearn.model_selection import train_test_split, cross_val_score\n",
    "from sklearn.pipeline import Pipeline\n",
    "from sklearn.impute import SimpleImputer\n",
    "from sklearn.preprocessing import OneHotEncoder\n",
    "from sklearn.compose import ColumnTransformer\n",
    "from sklearn.ensemble import RandomForestRegressor\n",
    "from sklearn.metrics import mean_absolute_error\n",
    "from sklearn.metrics import mean_squared_error\n",
    "from sklearn.model_selection import KFold"
   ]
  },
  {
   "cell_type": "code",
   "execution_count": 2,
   "id": "f8754f30-968e-4ebd-882f-af089addd5b3",
   "metadata": {},
   "outputs": [],
   "source": [
    "df = pd.read_csv(\"data/housing/train.csv\", index_col=\"Id\")"
   ]
  },
  {
   "cell_type": "code",
   "execution_count": 3,
   "id": "52554d50-881f-4fb8-998e-10bc2430f5df",
   "metadata": {},
   "outputs": [],
   "source": [
    "# Separate variables\n",
    "\n",
    "X = df.drop('SalePrice', axis=1)\n",
    "y = df.SalePrice"
   ]
  },
  {
   "cell_type": "code",
   "execution_count": 5,
   "id": "44167050-92c2-4884-8851-7545e298e0a2",
   "metadata": {},
   "outputs": [
    {
     "data": {
      "text/plain": [
       "Pipeline(steps=[('preprocessor',\n",
       "                 ColumnTransformer(transformers=[('num',\n",
       "                                                  SimpleImputer(strategy='median'),\n",
       "                                                  ['MSSubClass', 'LotFrontage',\n",
       "                                                   'LotArea', 'YearBuilt',\n",
       "                                                   'YearRemodAdd', 'MasVnrArea',\n",
       "                                                   'BsmtFinSF1', 'BsmtFinSF2',\n",
       "                                                   'BsmtUnfSF', 'TotalBsmtSF',\n",
       "                                                   '1stFlrSF', '2ndFlrSF',\n",
       "                                                   'LowQualFinSF', 'GrLivArea',\n",
       "                                                   'TotRmsAbvGrd',\n",
       "                                                   'GarageYrBlt', 'GarageArea',\n",
       "                                                   'WoodDeckSF', 'OpenPorchSF...\n",
       "                              gamma=0, gpu_id=-1, importance_type=None,\n",
       "                              interaction_constraints='',\n",
       "                              learning_rate=0.300000012, max_delta_step=0,\n",
       "                              max_depth=6, min_child_weight=1, missing=nan,\n",
       "                              monotone_constraints='()', n_estimators=100,\n",
       "                              n_jobs=8, num_parallel_tree=1, predictor='auto',\n",
       "                              random_state=0, reg_alpha=0, reg_lambda=1,\n",
       "                              scale_pos_weight=1, subsample=1,\n",
       "                              tree_method='exact', validate_parameters=1,\n",
       "                              verbosity=None))])"
      ]
     },
     "execution_count": 5,
     "metadata": {},
     "output_type": "execute_result"
    }
   ],
   "source": [
    "# Separate columns\n",
    "categorical_object_cols = [col for col in X_train.columns if X_train[col].dtype == \"object\"]\n",
    "\n",
    "categorical_num_cols = [col for col in X_train.columns if X_train[col].dtype in ['int64', 'float64'] and \n",
    "                        X_train[col].nunique() <= 10]\n",
    "\n",
    "numerical_cols = [col for col in X_train.columns if X_train[col].dtype in ['int64', 'float64'] and \n",
    "                        X_train[col].nunique() > 10]\n",
    "\n",
    "\n",
    "numerical_transformer = SimpleImputer(strategy=\"median\")\n",
    "\n",
    "categorical_obj_transformer = Pipeline(\n",
    "    steps=[('imputer', SimpleImputer(strategy='most_frequent')),\n",
    "           ('onehot', OneHotEncoder(handle_unknown=\"ignore\"))\n",
    "    ])\n",
    "\n",
    "categorical_num_transformer = SimpleImputer(strategy=\"most_frequent\")\n",
    "\n",
    "preprocessor = ColumnTransformer(\n",
    "    transformers=[\n",
    "      ('num', numerical_transformer, numerical_cols),\n",
    "      ('cat_obj', categorical_obj_transformer, categorical_object_cols),\n",
    "      ('cat_num', categorical_num_transformer, categorical_num_cols)\n",
    "])\n",
    "\n",
    "model = XGBRegressor()\n",
    "\n",
    "pipeline = Pipeline(\n",
    "    steps=[\n",
    "       ('preprocessor', preprocessor),\n",
    "       ('model', model)\n",
    "    ])"
   ]
  },
  {
   "cell_type": "code",
   "execution_count": 10,
   "id": "2765a18d-57bf-4e7e-b819-7d88bd93c514",
   "metadata": {},
   "outputs": [
    {
     "name": "stdout",
     "output_type": "stream",
     "text": [
      "--------------- Fold 0 ---------------\n",
      "Score:  39741.44948432244\n",
      "--------------- Fold 1 ---------------\n",
      "Score:  31421.92662987563\n",
      "--------------- Fold 2 ---------------\n",
      "Score:  48578.97841047301\n",
      "--------------- Fold 3 ---------------\n",
      "Score:  33027.96401406169\n",
      "--------------- Fold 4 ---------------\n",
      "Score:  27908.62848880376\n"
     ]
    }
   ],
   "source": [
    "kf = KFold(n_splits=5, shuffle=True, random_state=42)\n",
    "cv_scores = []\n",
    "\n",
    "for fold, (train_indicies, valid_indicies) in enumerate(kf.split(X_train)):\n",
    "    \n",
    "    print(\"-\"*15, \"Fold\", fold, \"-\"*15)\n",
    "    X_train, X_valid = X.iloc[train_indicies], X.iloc[valid_indicies]\n",
    "    y_train, y_valid = y.iloc[train_indicies].values, y.iloc[valid_indicies].values \n",
    "\n",
    "    pipeline.fit(X_train, y_train)\n",
    "    y_pred = pipeline.predict(X_valid)\n",
    "    score = mean_squared_error(y_valid, y_pred, squared=False)\n",
    "    print(\"Score: \", score)\n",
    "    cv_scores.append(score)"
   ]
  },
  {
   "cell_type": "code",
   "execution_count": null,
   "id": "db718a71-7a13-4ad3-a6d5-d3e59333290d",
   "metadata": {},
   "outputs": [],
   "source": []
  }
 ],
 "metadata": {
  "kernelspec": {
   "display_name": "Python 3 (ipykernel)",
   "language": "python",
   "name": "python3"
  },
  "language_info": {
   "codemirror_mode": {
    "name": "ipython",
    "version": 3
   },
   "file_extension": ".py",
   "mimetype": "text/x-python",
   "name": "python",
   "nbconvert_exporter": "python",
   "pygments_lexer": "ipython3",
   "version": "3.9.12"
  }
 },
 "nbformat": 4,
 "nbformat_minor": 5
}
