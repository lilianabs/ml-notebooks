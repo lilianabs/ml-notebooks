{
 "cells": [
  {
   "cell_type": "code",
   "execution_count": 1,
   "id": "351197ed-6166-4aca-8a51-b9ad8ff74e6f",
   "metadata": {},
   "outputs": [],
   "source": [
    "import numpy as np\n",
    "import matplotlib.pyplot as plt"
   ]
  },
  {
   "cell_type": "code",
   "execution_count": 3,
   "id": "c0feaa20-babc-438c-ac03-3c0f978e0115",
   "metadata": {},
   "outputs": [],
   "source": [
    "# We create a random dataset\n",
    "X = 2 * np.random.rand(100, 1)\n",
    "y = 4 + 3 * X + np.random.rand(100, 1)"
   ]
  },
  {
   "cell_type": "code",
   "execution_count": 4,
   "id": "79f14326-6704-4ff2-8a85-ad26ecccc46c",
   "metadata": {},
   "outputs": [
    {
     "data": {
      "text/plain": [
       "<matplotlib.collections.PathCollection at 0x113a2c340>"
      ]
     },
     "execution_count": 4,
     "metadata": {},
     "output_type": "execute_result"
    },
    {
     "data": {
      "image/png": "[encoded data removed]",
      "text/plain": [
       "<Figure size 432x288 with 1 Axes>"
      ]
     },
     "metadata": {
      "needs_background": "light"
     },
     "output_type": "display_data"
    }
   ],
   "source": [
    "plt.scatter(X, y)"
   ]
  },
  {
   "cell_type": "code",
   "execution_count": 5,
   "id": "128e8446-304a-42eb-9584-82eef53accd1",
   "metadata": {},
   "outputs": [],
   "source": [
    "# Compute the normal equation\n",
    "ones = np.ones(X.shape[0])\n",
    "X = np.column_stack([ones, X])\n",
    "XTX_inv = np.linalg.inv(X.T.dot(X))\n",
    "theta = XTX_inv.dot(X.T.dot(y))"
   ]
  },
  {
   "cell_type": "code",
   "execution_count": 7,
   "id": "60ca93bf-e82a-4dae-93a5-cfae5ce40c4a",
   "metadata": {},
   "outputs": [],
   "source": [
    "X_test = np.array([[0],[2]])\n",
    "ones = np.ones(X_test.shape[0])\n",
    "X_test = np.column_stack([ones, X_test])\n",
    "y_predict = X_test.dot(theta)"
   ]
  },
  {
   "cell_type": "code",
   "execution_count": 8,
   "id": "c27000ef-d41b-4b2c-8e5c-e5b7cbf6ed01",
   "metadata": {},
   "outputs": [
    {
     "data": {
      "text/plain": [
       "array([[ 4.39283938],\n",
       "       [10.50347353]])"
      ]
     },
     "execution_count": 8,
     "metadata": {},
     "output_type": "execute_result"
    }
   ],
   "source": [
    "y_predict"
   ]
  },
  {
   "cell_type": "code",
   "execution_count": null,
   "id": "e29ecb46-7193-42fc-9630-6983346d41de",
   "metadata": {},
   "outputs": [],
   "source": [
    "plt.scatter(X, y)\n",
    "plt.plot(X_test, y_predict, \"r-\")\n",
    "plt.plot"
   ]
  }
 ],
 "metadata": {
  "kernelspec": {
   "display_name": "Python 3 (ipykernel)",
   "language": "python",
   "name": "python3"
  },
  "language_info": {
   "codemirror_mode": {
    "name": "ipython",
    "version": 3
   },
   "file_extension": ".py",
   "mimetype": "text/x-python",
   "name": "python",
   "nbconvert_exporter": "python",
   "pygments_lexer": "ipython3",
   "version": "3.9.12"
  }
 },
 "nbformat": 4,
 "nbformat_minor": 5
}
