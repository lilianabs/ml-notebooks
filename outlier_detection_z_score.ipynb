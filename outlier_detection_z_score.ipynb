{
 "cells": [
  {
   "cell_type": "code",
   "execution_count": 1,
   "id": "3a4db93c-08b0-43a9-b2ac-a2acacdc83b5",
   "metadata": {},
   "outputs": [],
   "source": [
    "import pandas as pd\n",
    "import numpy as np\n",
    "import matplotlib.pyplot as plt"
   ]
  },
  {
   "cell_type": "markdown",
   "id": "927b1e33-93dc-4b7b-8f93-48116b232e75",
   "metadata": {},
   "source": [
    "This notebook contains the solution to this [exercise](https://github.com/codebasics/py/blob/master/ML/FeatureEngineering/2_outliers_z_score/Exercise/2_outliers_z_score_exercise.ipynb)."
   ]
  },
  {
   "cell_type": "code",
   "execution_count": 2,
   "id": "02235453-32f4-40b9-9146-fdf9ec898128",
   "metadata": {},
   "outputs": [],
   "source": [
    "df = pd.read_csv(\"data/bhp/bhp.csv\")"
   ]
  },
  {
   "cell_type": "code",
   "execution_count": 3,
   "id": "3783a84f-6816-4473-961d-58d537719d55",
   "metadata": {},
   "outputs": [
    {
     "data": {
      "text/html": [
       "<div>\n",
       "<style scoped>\n",
       "    .dataframe tbody tr th:only-of-type {\n",
       "        vertical-align: middle;\n",
       "    }\n",
       "\n",
       "    .dataframe tbody tr th {\n",
       "        vertical-align: top;\n",
       "    }\n",
       "\n",
       "    .dataframe thead th {\n",
       "        text-align: right;\n",
       "    }\n",
       "</style>\n",
       "<table border=\"1\" class=\"dataframe\">\n",
       "  <thead>\n",
       "    <tr style=\"text-align: right;\">\n",
       "      <th></th>\n",
       "      <th>location</th>\n",
       "      <th>size</th>\n",
       "      <th>total_sqft</th>\n",
       "      <th>bath</th>\n",
       "      <th>price</th>\n",
       "      <th>bhk</th>\n",
       "      <th>price_per_sqft</th>\n",
       "    </tr>\n",
       "  </thead>\n",
       "  <tbody>\n",
       "    <tr>\n",
       "      <th>0</th>\n",
       "      <td>Electronic City Phase II</td>\n",
       "      <td>2 BHK</td>\n",
       "      <td>1056.0</td>\n",
       "      <td>2.0</td>\n",
       "      <td>39.07</td>\n",
       "      <td>2</td>\n",
       "      <td>3699</td>\n",
       "    </tr>\n",
       "    <tr>\n",
       "      <th>1</th>\n",
       "      <td>Chikka Tirupathi</td>\n",
       "      <td>4 Bedroom</td>\n",
       "      <td>2600.0</td>\n",
       "      <td>5.0</td>\n",
       "      <td>120.00</td>\n",
       "      <td>4</td>\n",
       "      <td>4615</td>\n",
       "    </tr>\n",
       "    <tr>\n",
       "      <th>2</th>\n",
       "      <td>Uttarahalli</td>\n",
       "      <td>3 BHK</td>\n",
       "      <td>1440.0</td>\n",
       "      <td>2.0</td>\n",
       "      <td>62.00</td>\n",
       "      <td>3</td>\n",
       "      <td>4305</td>\n",
       "    </tr>\n",
       "    <tr>\n",
       "      <th>3</th>\n",
       "      <td>Lingadheeranahalli</td>\n",
       "      <td>3 BHK</td>\n",
       "      <td>1521.0</td>\n",
       "      <td>3.0</td>\n",
       "      <td>95.00</td>\n",
       "      <td>3</td>\n",
       "      <td>6245</td>\n",
       "    </tr>\n",
       "    <tr>\n",
       "      <th>4</th>\n",
       "      <td>Kothanur</td>\n",
       "      <td>2 BHK</td>\n",
       "      <td>1200.0</td>\n",
       "      <td>2.0</td>\n",
       "      <td>51.00</td>\n",
       "      <td>2</td>\n",
       "      <td>4250</td>\n",
       "    </tr>\n",
       "  </tbody>\n",
       "</table>\n",
       "</div>"
      ],
      "text/plain": [
       "                   location       size  total_sqft  bath   price  bhk  \\\n",
       "0  Electronic City Phase II      2 BHK      1056.0   2.0   39.07    2   \n",
       "1          Chikka Tirupathi  4 Bedroom      2600.0   5.0  120.00    4   \n",
       "2               Uttarahalli      3 BHK      1440.0   2.0   62.00    3   \n",
       "3        Lingadheeranahalli      3 BHK      1521.0   3.0   95.00    3   \n",
       "4                  Kothanur      2 BHK      1200.0   2.0   51.00    2   \n",
       "\n",
       "   price_per_sqft  \n",
       "0            3699  \n",
       "1            4615  \n",
       "2            4305  \n",
       "3            6245  \n",
       "4            4250  "
      ]
     },
     "execution_count": 3,
     "metadata": {},
     "output_type": "execute_result"
    }
   ],
   "source": [
    "df.head()"
   ]
  },
  {
   "cell_type": "code",
   "execution_count": 22,
   "id": "9856efaf-18d8-4ff6-be90-c54957e96c93",
   "metadata": {},
   "outputs": [
    {
     "name": "stdout",
     "output_type": "stream",
     "text": [
      "<class 'pandas.core.frame.DataFrame'>\n",
      "RangeIndex: 13200 entries, 0 to 13199\n",
      "Data columns (total 7 columns):\n",
      " #   Column          Non-Null Count  Dtype  \n",
      "---  ------          --------------  -----  \n",
      " 0   location        13200 non-null  object \n",
      " 1   size            13200 non-null  object \n",
      " 2   total_sqft      13200 non-null  float64\n",
      " 3   bath            13200 non-null  float64\n",
      " 4   price           13200 non-null  float64\n",
      " 5   bhk             13200 non-null  int64  \n",
      " 6   price_per_sqft  13200 non-null  int64  \n",
      "dtypes: float64(3), int64(2), object(2)\n",
      "memory usage: 722.0+ KB\n"
     ]
    }
   ],
   "source": [
    "df.info()"
   ]
  },
  {
   "cell_type": "code",
   "execution_count": 4,
   "id": "2cc9eca0-c29e-4229-a209-af1f5fa2aad4",
   "metadata": {},
   "outputs": [
    {
     "data": {
      "text/plain": [
       "count    1.320000e+04\n",
       "mean     7.920337e+03\n",
       "std      1.067272e+05\n",
       "min      2.670000e+02\n",
       "25%      4.267000e+03\n",
       "50%      5.438000e+03\n",
       "75%      7.317000e+03\n",
       "max      1.200000e+07\n",
       "Name: price_per_sqft, dtype: float64"
      ]
     },
     "execution_count": 4,
     "metadata": {},
     "output_type": "execute_result"
    }
   ],
   "source": [
    "df.price_per_sqft.describe()"
   ]
  },
  {
   "cell_type": "code",
   "execution_count": 14,
   "id": "68460bb2-e119-4bde-bdd5-61dec8946798",
   "metadata": {},
   "outputs": [
    {
     "data": {
      "image/png": "[encoded data removed]",
      "text/plain": [
       "<Figure size 432x288 with 1 Axes>"
      ]
     },
     "metadata": {
      "needs_background": "light"
     },
     "output_type": "display_data"
    }
   ],
   "source": [
    "plt.hist(df.price_per_sqft, bins=20, rwidth=0.8)\n",
    "plt.xlabel('Price per sqft')\n",
    "plt.ylabel('Count')\n",
    "plt.ticklabel_format(style='plain') "
   ]
  },
  {
   "cell_type": "code",
   "execution_count": 15,
   "id": "f91f0cb9-971b-4713-819e-f7a44521395f",
   "metadata": {},
   "outputs": [
    {
     "data": {
      "text/plain": [
       "7920.336742424242"
      ]
     },
     "execution_count": 15,
     "metadata": {},
     "output_type": "execute_result"
    }
   ],
   "source": [
    "df.price_per_sqft.mean()"
   ]
  },
  {
   "cell_type": "code",
   "execution_count": 16,
   "id": "a834f679-f8f9-4f1a-8556-187eec905098",
   "metadata": {},
   "outputs": [
    {
     "data": {
      "text/plain": [
       "106727.16032810867"
      ]
     },
     "execution_count": 16,
     "metadata": {},
     "output_type": "execute_result"
    }
   ],
   "source": [
    "df.price_per_sqft.std()"
   ]
  },
  {
   "cell_type": "markdown",
   "id": "999e636c-0d84-4e82-b998-127711587fbc",
   "metadata": {},
   "source": [
    "We use 3 standar deviations as our upper limit."
   ]
  },
  {
   "cell_type": "code",
   "execution_count": 18,
   "id": "1d51f9bf-3886-47ec-ac01-6c89daf14991",
   "metadata": {},
   "outputs": [],
   "source": [
    "upper_limit = df.price_per_sqft.mean() + 3*df.price_per_sqft.std()\n",
    "lower_limit = df.price_per_sqft.mean() - 3*df.price_per_sqft.std()"
   ]
  },
  {
   "cell_type": "code",
   "execution_count": 19,
   "id": "a7b1e751-c501-4db9-84be-106dbf6332d3",
   "metadata": {},
   "outputs": [],
   "source": [
    "df_3_std = df[(df.price_per_sqft > lower_limit) & (df.price_per_sqft < upper_limit)]"
   ]
  },
  {
   "cell_type": "code",
   "execution_count": 20,
   "id": "1c8e8000-882b-4457-b11f-90ce9800fca7",
   "metadata": {},
   "outputs": [
    {
     "data": {
      "image/png": "[encoded data removed]",
      "text/plain": [
       "<Figure size 432x288 with 1 Axes>"
      ]
     },
     "metadata": {
      "needs_background": "light"
     },
     "output_type": "display_data"
    }
   ],
   "source": [
    "plt.hist(df_3_std.price_per_sqft, bins=20, rwidth=0.8)\n",
    "plt.xlabel('Price per sqft')\n",
    "plt.ylabel('Count')\n",
    "plt.ticklabel_format(style='plain') "
   ]
  },
  {
   "cell_type": "code",
   "execution_count": 21,
   "id": "dbaa6bb2-acfb-4674-8d63-d7dcca8b81cc",
   "metadata": {},
   "outputs": [
    {
     "data": {
      "text/plain": [
       "(13195, 7)"
      ]
     },
     "execution_count": 21,
     "metadata": {},
     "output_type": "execute_result"
    }
   ],
   "source": [
    "df_3_std.shape"
   ]
  },
  {
   "cell_type": "code",
   "execution_count": 23,
   "id": "132c2fe0-5ff0-4f7f-9762-7f66e6629933",
   "metadata": {},
   "outputs": [
    {
     "data": {
      "text/html": [
       "<div>\n",
       "<style scoped>\n",
       "    .dataframe tbody tr th:only-of-type {\n",
       "        vertical-align: middle;\n",
       "    }\n",
       "\n",
       "    .dataframe tbody tr th {\n",
       "        vertical-align: top;\n",
       "    }\n",
       "\n",
       "    .dataframe thead th {\n",
       "        text-align: right;\n",
       "    }\n",
       "</style>\n",
       "<table border=\"1\" class=\"dataframe\">\n",
       "  <thead>\n",
       "    <tr style=\"text-align: right;\">\n",
       "      <th></th>\n",
       "      <th>location</th>\n",
       "      <th>size</th>\n",
       "      <th>total_sqft</th>\n",
       "      <th>bath</th>\n",
       "      <th>price</th>\n",
       "      <th>bhk</th>\n",
       "      <th>price_per_sqft</th>\n",
       "    </tr>\n",
       "  </thead>\n",
       "  <tbody>\n",
       "    <tr>\n",
       "      <th>345</th>\n",
       "      <td>other</td>\n",
       "      <td>3 Bedroom</td>\n",
       "      <td>11.0</td>\n",
       "      <td>3.0</td>\n",
       "      <td>74.0</td>\n",
       "      <td>3</td>\n",
       "      <td>672727</td>\n",
       "    </tr>\n",
       "    <tr>\n",
       "      <th>1106</th>\n",
       "      <td>other</td>\n",
       "      <td>5 Bedroom</td>\n",
       "      <td>24.0</td>\n",
       "      <td>2.0</td>\n",
       "      <td>150.0</td>\n",
       "      <td>5</td>\n",
       "      <td>625000</td>\n",
       "    </tr>\n",
       "    <tr>\n",
       "      <th>4044</th>\n",
       "      <td>Sarjapur  Road</td>\n",
       "      <td>4 Bedroom</td>\n",
       "      <td>1.0</td>\n",
       "      <td>4.0</td>\n",
       "      <td>120.0</td>\n",
       "      <td>4</td>\n",
       "      <td>12000000</td>\n",
       "    </tr>\n",
       "    <tr>\n",
       "      <th>4924</th>\n",
       "      <td>other</td>\n",
       "      <td>7 BHK</td>\n",
       "      <td>5.0</td>\n",
       "      <td>7.0</td>\n",
       "      <td>115.0</td>\n",
       "      <td>7</td>\n",
       "      <td>2300000</td>\n",
       "    </tr>\n",
       "    <tr>\n",
       "      <th>11447</th>\n",
       "      <td>Whitefield</td>\n",
       "      <td>4 Bedroom</td>\n",
       "      <td>60.0</td>\n",
       "      <td>4.0</td>\n",
       "      <td>218.0</td>\n",
       "      <td>4</td>\n",
       "      <td>363333</td>\n",
       "    </tr>\n",
       "  </tbody>\n",
       "</table>\n",
       "</div>"
      ],
      "text/plain": [
       "             location       size  total_sqft  bath  price  bhk  price_per_sqft\n",
       "345             other  3 Bedroom        11.0   3.0   74.0    3          672727\n",
       "1106            other  5 Bedroom        24.0   2.0  150.0    5          625000\n",
       "4044   Sarjapur  Road  4 Bedroom         1.0   4.0  120.0    4        12000000\n",
       "4924            other      7 BHK         5.0   7.0  115.0    7         2300000\n",
       "11447      Whitefield  4 Bedroom        60.0   4.0  218.0    4          363333"
      ]
     },
     "execution_count": 23,
     "metadata": {},
     "output_type": "execute_result"
    }
   ],
   "source": [
    "df[(df.price_per_sqft < lower_limit) | (df.price_per_sqft > upper_limit)]"
   ]
  },
  {
   "cell_type": "markdown",
   "id": "95c6ff46-f1f2-49bd-b369-6ae5f3946320",
   "metadata": {},
   "source": [
    "Z score indicates how many standard deviations away a point is.\n",
    "\n",
    "$$Z = X - mean / std$$\n",
    "\n",
    "## Exercise"
   ]
  },
  {
   "cell_type": "code",
   "execution_count": 26,
   "id": "0eb70987-d14b-4ba7-9157-425925ef06c9",
   "metadata": {},
   "outputs": [],
   "source": [
    "# First, we remove the outliers using the percentile method\n",
    "lower_limit, upper_limit = df.price_per_sqft.quantile([0.001, 0.999])\n",
    "df_percentile_outlier_removal = df[(df.price_per_sqft > lower_limit) & (df.price_per_sqft < upper_limit)]"
   ]
  },
  {
   "cell_type": "code",
   "execution_count": null,
   "id": "a89cf5ad-b1bc-491f-97b2-13edfa3b2571",
   "metadata": {},
   "outputs": [],
   "source": []
  },
  {
   "cell_type": "code",
   "execution_count": 27,
   "id": "0c47eae4-301b-4689-96a8-1b36169a898c",
   "metadata": {},
   "outputs": [
    {
     "data": {
      "image/png": "[encoded data removed]",
      "text/plain": [
       "<Figure size 432x288 with 1 Axes>"
      ]
     },
     "metadata": {
      "needs_background": "light"
     },
     "output_type": "display_data"
    }
   ],
   "source": [
    "upper_limit = df.price_per_sqft.mean() + 4*df.price_per_sqft.std()\n",
    "lower_limit = df.price_per_sqft.mean() - 4*df.price_per_sqft.std()\n",
    "\n",
    "df_4_std = df_percentile_outlier_removal[(df_percentile_outlier_removal.price_per_sqft > lower_limit) & (df_percentile_outlier_removal.price_per_sqft < upper_limit)]\n",
    "\n",
    "plt.hist(df_4_std.price_per_sqft, bins=20, rwidth=0.8)\n",
    "plt.xlabel('Price per sqft')\n",
    "plt.ylabel('Count')\n",
    "plt.ticklabel_format(style='plain') "
   ]
  },
  {
   "cell_type": "code",
   "execution_count": null,
   "id": "ad217474-d868-4220-9a07-e29886c1e62a",
   "metadata": {},
   "outputs": [],
   "source": []
  }
 ],
 "metadata": {
  "kernelspec": {
   "display_name": "Python 3 (ipykernel)",
   "language": "python",
   "name": "python3"
  },
  "language_info": {
   "codemirror_mode": {
    "name": "ipython",
    "version": 3
   },
   "file_extension": ".py",
   "mimetype": "text/x-python",
   "name": "python",
   "nbconvert_exporter": "python",
   "pygments_lexer": "ipython3",
   "version": "3.9.12"
  }
 },
 "nbformat": 4,
 "nbformat_minor": 5
}
