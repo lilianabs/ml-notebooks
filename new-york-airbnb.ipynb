{
 "cells": [
  {
   "cell_type": "code",
   "execution_count": 69,
   "metadata": {
    "_cell_guid": "b1076dfc-b9ad-4769-8c92-a6c4dae69d19",
    "_uuid": "8f2839f25d086af736a60e9eeb907d3b93b6e0e5",
    "execution": {
     "iopub.execute_input": "2022-06-14T23:03:27.553907Z",
     "iopub.status.busy": "2022-06-14T23:03:27.553495Z",
     "iopub.status.idle": "2022-06-14T23:03:27.699672Z",
     "shell.execute_reply": "2022-06-14T23:03:27.698716Z",
     "shell.execute_reply.started": "2022-06-14T23:03:27.553876Z"
    }
   },
   "outputs": [],
   "source": [
    "import numpy as np # linear algebra\n",
    "import pandas as pd # data processing, CSV file I/O (e.g. pd.read_csv)\n",
    "import matplotlib.pyplot as plt\n",
    "import seaborn as sns\n",
    "\n",
    "from xgboost import XGBRegressor\n",
    "\n",
    "from sklearn.model_selection import train_test_split\n",
    "from sklearn.metrics import mean_squared_error\n",
    "from sklearn.linear_model import LinearRegression\n",
    "from sklearn.preprocessing import OneHotEncoder\n",
    "from sklearn.preprocessing import StandardScaler\n",
    "from sklearn.compose import ColumnTransformer\n",
    "from sklearn.pipeline import Pipeline\n",
    "\n",
    "import os\n",
    "for dirname, _, filenames in os.walk('/kaggle/input'):\n",
    "    for filename in filenames:\n",
    "        print(os.path.join(dirname, filename))"
   ]
  },
  {
   "cell_type": "markdown",
   "metadata": {},
   "source": [
    "This notebooks uses the [New York City Airbnb Open Data](https://www.kaggle.com/datasets/dgomonov/new-york-city-airbnb-open-data)."
   ]
  },
  {
   "cell_type": "code",
   "execution_count": 16,
   "metadata": {
    "execution": {
     "iopub.execute_input": "2022-06-14T22:06:26.152539Z",
     "iopub.status.busy": "2022-06-14T22:06:26.151977Z",
     "iopub.status.idle": "2022-06-14T22:06:26.341703Z",
     "shell.execute_reply": "2022-06-14T22:06:26.340780Z",
     "shell.execute_reply.started": "2022-06-14T22:06:26.152483Z"
    }
   },
   "outputs": [],
   "source": [
    "df = pd.read_csv(\"/kaggle/input/new-york-city-airbnb-open-data/AB_NYC_2019.csv\")"
   ]
  },
  {
   "cell_type": "code",
   "execution_count": 17,
   "metadata": {
    "execution": {
     "iopub.execute_input": "2022-06-14T22:06:26.343306Z",
     "iopub.status.busy": "2022-06-14T22:06:26.343015Z",
     "iopub.status.idle": "2022-06-14T22:06:26.363242Z",
     "shell.execute_reply": "2022-06-14T22:06:26.362258Z",
     "shell.execute_reply.started": "2022-06-14T22:06:26.343280Z"
    }
   },
   "outputs": [],
   "source": [
    "df.head()"
   ]
  },
  {
   "cell_type": "code",
   "execution_count": 18,
   "metadata": {
    "execution": {
     "iopub.execute_input": "2022-06-14T22:06:26.366260Z",
     "iopub.status.busy": "2022-06-14T22:06:26.365830Z",
     "iopub.status.idle": "2022-06-14T22:06:26.413617Z",
     "shell.execute_reply": "2022-06-14T22:06:26.412654Z",
     "shell.execute_reply.started": "2022-06-14T22:06:26.366206Z"
    }
   },
   "outputs": [],
   "source": [
    "df.info()"
   ]
  },
  {
   "cell_type": "code",
   "execution_count": 19,
   "metadata": {
    "execution": {
     "iopub.execute_input": "2022-06-14T22:06:26.415733Z",
     "iopub.status.busy": "2022-06-14T22:06:26.415187Z",
     "iopub.status.idle": "2022-06-14T22:06:26.476596Z",
     "shell.execute_reply": "2022-06-14T22:06:26.475486Z",
     "shell.execute_reply.started": "2022-06-14T22:06:26.415681Z"
    }
   },
   "outputs": [],
   "source": [
    "df.describe()"
   ]
  },
  {
   "cell_type": "markdown",
   "metadata": {},
   "source": [
    "## EDA"
   ]
  },
  {
   "cell_type": "code",
   "execution_count": 20,
   "metadata": {
    "execution": {
     "iopub.execute_input": "2022-06-14T22:06:26.478435Z",
     "iopub.status.busy": "2022-06-14T22:06:26.478124Z",
     "iopub.status.idle": "2022-06-14T22:06:26.785821Z",
     "shell.execute_reply": "2022-06-14T22:06:26.784697Z",
     "shell.execute_reply.started": "2022-06-14T22:06:26.478407Z"
    }
   },
   "outputs": [],
   "source": [
    "sns.histplot(df.price, bins=40);"
   ]
  },
  {
   "cell_type": "code",
   "execution_count": 21,
   "metadata": {
    "execution": {
     "iopub.execute_input": "2022-06-14T22:06:26.787699Z",
     "iopub.status.busy": "2022-06-14T22:06:26.787344Z",
     "iopub.status.idle": "2022-06-14T22:06:27.387182Z",
     "shell.execute_reply": "2022-06-14T22:06:27.386153Z",
     "shell.execute_reply.started": "2022-06-14T22:06:26.787668Z"
    }
   },
   "outputs": [],
   "source": [
    "sns.histplot(x='price', data=df[df.price < 800]);"
   ]
  },
  {
   "cell_type": "code",
   "execution_count": 22,
   "metadata": {
    "execution": {
     "iopub.execute_input": "2022-06-14T22:06:27.388648Z",
     "iopub.status.busy": "2022-06-14T22:06:27.388321Z",
     "iopub.status.idle": "2022-06-14T22:06:27.924142Z",
     "shell.execute_reply": "2022-06-14T22:06:27.922957Z",
     "shell.execute_reply.started": "2022-06-14T22:06:27.388619Z"
    }
   },
   "outputs": [],
   "source": [
    "sns.histplot(np.log1p(df.price));"
   ]
  },
  {
   "cell_type": "code",
   "execution_count": 42,
   "metadata": {
    "execution": {
     "iopub.execute_input": "2022-06-14T22:17:56.701265Z",
     "iopub.status.busy": "2022-06-14T22:17:56.700778Z",
     "iopub.status.idle": "2022-06-14T22:17:56.956580Z",
     "shell.execute_reply": "2022-06-14T22:17:56.955571Z",
     "shell.execute_reply.started": "2022-06-14T22:17:56.701220Z"
    }
   },
   "outputs": [],
   "source": [
    "sns.histplot(df.minimum_nights, bins=40);"
   ]
  },
  {
   "cell_type": "code",
   "execution_count": 23,
   "metadata": {
    "execution": {
     "iopub.execute_input": "2022-06-14T22:06:27.926598Z",
     "iopub.status.busy": "2022-06-14T22:06:27.926255Z",
     "iopub.status.idle": "2022-06-14T22:06:28.144416Z",
     "shell.execute_reply": "2022-06-14T22:06:28.143491Z",
     "shell.execute_reply.started": "2022-06-14T22:06:27.926568Z"
    }
   },
   "outputs": [],
   "source": [
    "sns.countplot(y='room_type', data=df);"
   ]
  },
  {
   "cell_type": "code",
   "execution_count": 24,
   "metadata": {
    "execution": {
     "iopub.execute_input": "2022-06-14T22:06:28.146777Z",
     "iopub.status.busy": "2022-06-14T22:06:28.145744Z",
     "iopub.status.idle": "2022-06-14T22:06:28.373529Z",
     "shell.execute_reply": "2022-06-14T22:06:28.372781Z",
     "shell.execute_reply.started": "2022-06-14T22:06:28.146732Z"
    }
   },
   "outputs": [],
   "source": [
    "sns.countplot(y='neighbourhood_group', data=df);"
   ]
  },
  {
   "cell_type": "code",
   "execution_count": 25,
   "metadata": {
    "execution": {
     "iopub.execute_input": "2022-06-14T22:06:28.375487Z",
     "iopub.status.busy": "2022-06-14T22:06:28.374534Z",
     "iopub.status.idle": "2022-06-14T22:06:28.386342Z",
     "shell.execute_reply": "2022-06-14T22:06:28.385574Z",
     "shell.execute_reply.started": "2022-06-14T22:06:28.375442Z"
    }
   },
   "outputs": [],
   "source": [
    "print(\"Number of different neighbourhoods: \", df.neighbourhood.nunique())"
   ]
  },
  {
   "cell_type": "code",
   "execution_count": 78,
   "metadata": {
    "execution": {
     "iopub.execute_input": "2022-06-14T23:18:49.859462Z",
     "iopub.status.busy": "2022-06-14T23:18:49.858257Z",
     "iopub.status.idle": "2022-06-14T23:18:49.883166Z",
     "shell.execute_reply": "2022-06-14T23:18:49.882296Z",
     "shell.execute_reply.started": "2022-06-14T23:18:49.859411Z"
    }
   },
   "outputs": [],
   "source": [
    "neigh = df.neighbourhood.value_counts().to_frame()\n",
    "neigh.describe()"
   ]
  },
  {
   "cell_type": "code",
   "execution_count": 26,
   "metadata": {
    "execution": {
     "iopub.execute_input": "2022-06-14T22:06:28.387938Z",
     "iopub.status.busy": "2022-06-14T22:06:28.387300Z",
     "iopub.status.idle": "2022-06-14T22:06:28.701248Z",
     "shell.execute_reply": "2022-06-14T22:06:28.700348Z",
     "shell.execute_reply.started": "2022-06-14T22:06:28.387905Z"
    }
   },
   "outputs": [],
   "source": [
    "sns.histplot(df.availability_365, bins=40);"
   ]
  },
  {
   "cell_type": "code",
   "execution_count": 27,
   "metadata": {
    "execution": {
     "iopub.execute_input": "2022-06-14T22:06:28.703068Z",
     "iopub.status.busy": "2022-06-14T22:06:28.702748Z",
     "iopub.status.idle": "2022-06-14T22:06:28.706689Z",
     "shell.execute_reply": "2022-06-14T22:06:28.706024Z",
     "shell.execute_reply.started": "2022-06-14T22:06:28.703038Z"
    }
   },
   "outputs": [],
   "source": [
    "numeric_cols_corr = [\"price\", \"minimum_nights\", \"number_of_reviews\", \"reviews_per_month\", \"calculated_host_listings_count\", \"availability_365\"]"
   ]
  },
  {
   "cell_type": "code",
   "execution_count": 28,
   "metadata": {
    "execution": {
     "iopub.execute_input": "2022-06-14T22:06:28.708278Z",
     "iopub.status.busy": "2022-06-14T22:06:28.707862Z",
     "iopub.status.idle": "2022-06-14T22:06:29.017173Z",
     "shell.execute_reply": "2022-06-14T22:06:29.016240Z",
     "shell.execute_reply.started": "2022-06-14T22:06:28.708248Z"
    }
   },
   "outputs": [],
   "source": [
    "corr = df[numeric_cols_corr].corr()\n",
    "\n",
    "sns.heatmap(corr, vmin=0, vmax=1, linewidths=2, square=True, cmap='Blues')"
   ]
  },
  {
   "cell_type": "code",
   "execution_count": 43,
   "metadata": {
    "execution": {
     "iopub.execute_input": "2022-06-14T22:19:03.437314Z",
     "iopub.status.busy": "2022-06-14T22:19:03.436858Z",
     "iopub.status.idle": "2022-06-14T22:19:03.457041Z",
     "shell.execute_reply": "2022-06-14T22:19:03.456334Z",
     "shell.execute_reply.started": "2022-06-14T22:19:03.437276Z"
    }
   },
   "outputs": [],
   "source": [
    "df[df.minimum_nights > 1000].head()"
   ]
  },
  {
   "cell_type": "code",
   "execution_count": 44,
   "metadata": {
    "execution": {
     "iopub.execute_input": "2022-06-14T22:19:56.050302Z",
     "iopub.status.busy": "2022-06-14T22:19:56.049921Z",
     "iopub.status.idle": "2022-06-14T22:19:56.071947Z",
     "shell.execute_reply": "2022-06-14T22:19:56.070920Z",
     "shell.execute_reply.started": "2022-06-14T22:19:56.050271Z"
    }
   },
   "outputs": [],
   "source": [
    "df[df.minimum_nights > 365].head()"
   ]
  },
  {
   "cell_type": "markdown",
   "metadata": {},
   "source": [
    "## Baseline model"
   ]
  },
  {
   "cell_type": "markdown",
   "metadata": {},
   "source": [
    "For our first model, we choose a few numeric columns."
   ]
  },
  {
   "cell_type": "code",
   "execution_count": 32,
   "metadata": {
    "execution": {
     "iopub.execute_input": "2022-06-14T22:11:17.026705Z",
     "iopub.status.busy": "2022-06-14T22:11:17.026237Z",
     "iopub.status.idle": "2022-06-14T22:11:17.032021Z",
     "shell.execute_reply": "2022-06-14T22:11:17.030785Z",
     "shell.execute_reply.started": "2022-06-14T22:11:17.026660Z"
    }
   },
   "outputs": [],
   "source": [
    "numeric_cols = [\"minimum_nights\", \"number_of_reviews\", \"calculated_host_listings_count\", \"availability_365\"]"
   ]
  },
  {
   "cell_type": "code",
   "execution_count": 33,
   "metadata": {
    "execution": {
     "iopub.execute_input": "2022-06-14T22:11:19.751167Z",
     "iopub.status.busy": "2022-06-14T22:11:19.750712Z",
     "iopub.status.idle": "2022-06-14T22:11:19.761543Z",
     "shell.execute_reply": "2022-06-14T22:11:19.760584Z",
     "shell.execute_reply.started": "2022-06-14T22:11:19.751131Z"
    }
   },
   "outputs": [],
   "source": [
    "# Check for missing values\n",
    "df[numeric_cols].isnull().sum()"
   ]
  },
  {
   "cell_type": "code",
   "execution_count": 36,
   "metadata": {
    "execution": {
     "iopub.execute_input": "2022-06-14T22:12:03.208272Z",
     "iopub.status.busy": "2022-06-14T22:12:03.207413Z",
     "iopub.status.idle": "2022-06-14T22:12:03.215710Z",
     "shell.execute_reply": "2022-06-14T22:12:03.214666Z",
     "shell.execute_reply.started": "2022-06-14T22:12:03.208226Z"
    }
   },
   "outputs": [],
   "source": [
    "X = df[numeric_cols].copy()\n",
    "y = np.log1p(df.price)"
   ]
  },
  {
   "cell_type": "code",
   "execution_count": 45,
   "metadata": {
    "execution": {
     "iopub.execute_input": "2022-06-14T22:21:49.027590Z",
     "iopub.status.busy": "2022-06-14T22:21:49.027160Z",
     "iopub.status.idle": "2022-06-14T22:21:49.041823Z",
     "shell.execute_reply": "2022-06-14T22:21:49.040609Z",
     "shell.execute_reply.started": "2022-06-14T22:21:49.027549Z"
    }
   },
   "outputs": [],
   "source": [
    "X_train, X_valid, y_train, y_valid = train_test_split(X, y, train_size=0.8,\n",
    "                                                      test_size=0.2, random_state=42)"
   ]
  },
  {
   "cell_type": "code",
   "execution_count": 46,
   "metadata": {
    "execution": {
     "iopub.execute_input": "2022-06-14T22:35:07.037432Z",
     "iopub.status.busy": "2022-06-14T22:35:07.037032Z",
     "iopub.status.idle": "2022-06-14T22:35:07.069083Z",
     "shell.execute_reply": "2022-06-14T22:35:07.068079Z",
     "shell.execute_reply.started": "2022-06-14T22:35:07.037401Z"
    }
   },
   "outputs": [],
   "source": [
    "lr = LinearRegression()\n",
    "lr.fit(X_train, y_train)"
   ]
  },
  {
   "cell_type": "code",
   "execution_count": 47,
   "metadata": {
    "execution": {
     "iopub.execute_input": "2022-06-14T22:35:46.638640Z",
     "iopub.status.busy": "2022-06-14T22:35:46.638263Z",
     "iopub.status.idle": "2022-06-14T22:35:46.648629Z",
     "shell.execute_reply": "2022-06-14T22:35:46.647368Z",
     "shell.execute_reply.started": "2022-06-14T22:35:46.638609Z"
    }
   },
   "outputs": [],
   "source": [
    "y_predict = lr.predict(X_valid)\n",
    "\n",
    "rmse = mean_squared_error(y_valid, y_predict, squared=False)\n",
    "print(f\"RMSE: {rmse}\")"
   ]
  },
  {
   "cell_type": "markdown",
   "metadata": {},
   "source": [
    "## Adding categoric columns\n",
    "\n",
    "Let's try adding more columns and see how the model performs."
   ]
  },
  {
   "cell_type": "code",
   "execution_count": 50,
   "metadata": {
    "execution": {
     "iopub.execute_input": "2022-06-14T22:45:25.633759Z",
     "iopub.status.busy": "2022-06-14T22:45:25.633338Z",
     "iopub.status.idle": "2022-06-14T22:45:25.638703Z",
     "shell.execute_reply": "2022-06-14T22:45:25.637425Z",
     "shell.execute_reply.started": "2022-06-14T22:45:25.633725Z"
    }
   },
   "outputs": [],
   "source": [
    "categoric_cols = [\"neighbourhood_group\", \"room_type\"]"
   ]
  },
  {
   "cell_type": "code",
   "execution_count": 58,
   "metadata": {
    "execution": {
     "iopub.execute_input": "2022-06-14T22:53:40.086241Z",
     "iopub.status.busy": "2022-06-14T22:53:40.085824Z",
     "iopub.status.idle": "2022-06-14T22:53:40.094486Z",
     "shell.execute_reply": "2022-06-14T22:53:40.093467Z",
     "shell.execute_reply.started": "2022-06-14T22:53:40.086206Z"
    }
   },
   "outputs": [],
   "source": [
    "X = df[numeric_cols + categoric_cols]\n",
    "y = np.log1p(df.price)"
   ]
  },
  {
   "cell_type": "code",
   "execution_count": 59,
   "metadata": {
    "execution": {
     "iopub.execute_input": "2022-06-14T22:54:07.015208Z",
     "iopub.status.busy": "2022-06-14T22:54:07.014823Z",
     "iopub.status.idle": "2022-06-14T22:54:07.030164Z",
     "shell.execute_reply": "2022-06-14T22:54:07.029091Z",
     "shell.execute_reply.started": "2022-06-14T22:54:07.015176Z"
    }
   },
   "outputs": [],
   "source": [
    "X_train, X_valid, y_train, y_valid = train_test_split(X, y, train_size=0.8,\n",
    "                                                      test_size=0.2, random_state=42)"
   ]
  },
  {
   "cell_type": "code",
   "execution_count": 70,
   "metadata": {
    "execution": {
     "iopub.execute_input": "2022-06-14T23:04:31.957567Z",
     "iopub.status.busy": "2022-06-14T23:04:31.957120Z",
     "iopub.status.idle": "2022-06-14T23:04:31.962882Z",
     "shell.execute_reply": "2022-06-14T23:04:31.961694Z",
     "shell.execute_reply.started": "2022-06-14T23:04:31.957533Z"
    }
   },
   "outputs": [],
   "source": [
    "cat_transformer = OneHotEncoder()\n",
    "\n",
    "standsc_transformer = StandardScaler()"
   ]
  },
  {
   "cell_type": "code",
   "execution_count": 71,
   "metadata": {
    "execution": {
     "iopub.execute_input": "2022-06-14T23:04:38.106177Z",
     "iopub.status.busy": "2022-06-14T23:04:38.105750Z",
     "iopub.status.idle": "2022-06-14T23:04:38.113692Z",
     "shell.execute_reply": "2022-06-14T23:04:38.112712Z",
     "shell.execute_reply.started": "2022-06-14T23:04:38.106143Z"
    }
   },
   "outputs": [],
   "source": [
    "preprocessor = ColumnTransformer(\n",
    "    transformers=[\n",
    "        ('cat', cat_transformer, categoric_cols),\n",
    "        ('num', standsc_transformer, numeric_cols)\n",
    "    ]\n",
    ")\n",
    "\n",
    "lr = LinearRegression()\n",
    "\n",
    "pipeline = Pipeline(\n",
    "    steps=[\n",
    "        ('preprocessor', preprocessor),\n",
    "        ('lr', lr)\n",
    "    ]\n",
    ")"
   ]
  },
  {
   "cell_type": "code",
   "execution_count": 72,
   "metadata": {
    "execution": {
     "iopub.execute_input": "2022-06-14T23:04:40.362985Z",
     "iopub.status.busy": "2022-06-14T23:04:40.362427Z",
     "iopub.status.idle": "2022-06-14T23:04:40.450371Z",
     "shell.execute_reply": "2022-06-14T23:04:40.449186Z",
     "shell.execute_reply.started": "2022-06-14T23:04:40.362946Z"
    }
   },
   "outputs": [],
   "source": [
    "pipeline.fit(X_train, y_train)"
   ]
  },
  {
   "cell_type": "code",
   "execution_count": 73,
   "metadata": {
    "execution": {
     "iopub.execute_input": "2022-06-14T23:04:44.531912Z",
     "iopub.status.busy": "2022-06-14T23:04:44.531526Z",
     "iopub.status.idle": "2022-06-14T23:04:44.558131Z",
     "shell.execute_reply": "2022-06-14T23:04:44.556867Z",
     "shell.execute_reply.started": "2022-06-14T23:04:44.531879Z"
    }
   },
   "outputs": [],
   "source": [
    "y_predict = pipeline.predict(X_valid)\n",
    "\n",
    "rmse = mean_squared_error(y_valid, y_predict, squared=False)\n",
    "print(f\"RMSE: {rmse}\")"
   ]
  },
  {
   "cell_type": "markdown",
   "metadata": {},
   "source": [
    "## Try XGBRegressor"
   ]
  },
  {
   "cell_type": "code",
   "execution_count": 80,
   "metadata": {
    "execution": {
     "iopub.execute_input": "2022-06-14T23:20:00.758571Z",
     "iopub.status.busy": "2022-06-14T23:20:00.758145Z",
     "iopub.status.idle": "2022-06-14T23:20:02.668111Z",
     "shell.execute_reply": "2022-06-14T23:20:02.667372Z",
     "shell.execute_reply.started": "2022-06-14T23:20:00.758507Z"
    }
   },
   "outputs": [],
   "source": [
    "X = df[numeric_cols + categoric_cols]\n",
    "y = np.log1p(df.price)\n",
    "\n",
    "X_train, X_valid, y_train, y_valid = train_test_split(X, y, train_size=0.8,\n",
    "                                                      test_size=0.2, random_state=42)\n",
    "\n",
    "\n",
    "cat_transformer = OneHotEncoder()\n",
    "\n",
    "standsc_transformer = StandardScaler()\n",
    "\n",
    "preprocessor = ColumnTransformer(\n",
    "    transformers=[\n",
    "        ('cat', cat_transformer, categoric_cols),\n",
    "        ('num', standsc_transformer, numeric_cols)\n",
    "    ]\n",
    ")\n",
    "\n",
    "xgb = XGBRegressor()\n",
    "\n",
    "pipeline = Pipeline(\n",
    "    steps=[\n",
    "        ('preprocessor', preprocessor),\n",
    "        ('xgb', xgb)\n",
    "    ]\n",
    ")\n",
    "\n",
    "pipeline.fit(X_train, y_train)\n",
    "\n",
    "y_predict = pipeline.predict(X_valid)\n",
    "\n",
    "rmse = mean_squared_error(y_valid, y_predict, squared=False)\n",
    "print(f\"RMSE: {rmse}\")"
   ]
  },
  {
   "cell_type": "markdown",
   "metadata": {},
   "source": [
    "## Feature engineering"
   ]
  },
  {
   "cell_type": "code",
   "execution_count": null,
   "metadata": {},
   "outputs": [],
   "source": []
  }
 ],
 "metadata": {
  "kernelspec": {
   "display_name": "Python 3 (ipykernel)",
   "language": "python",
   "name": "python3"
  },
  "language_info": {
   "codemirror_mode": {
    "name": "ipython",
    "version": 3
   },
   "file_extension": ".py",
   "mimetype": "text/x-python",
   "name": "python",
   "nbconvert_exporter": "python",
   "pygments_lexer": "ipython3",
   "version": "3.9.7"
  }
 },
 "nbformat": 4,
 "nbformat_minor": 4
}
